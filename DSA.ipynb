{
 "cells": [
  {
   "cell_type": "markdown",
   "id": "796655a3",
   "metadata": {},
   "source": [
    "# Dijkstra's Algorithm"
   ]
  },
  {
   "cell_type": "code",
   "execution_count": 1,
   "id": "abf02d3d",
   "metadata": {},
   "outputs": [
    {
     "name": "stdout",
     "output_type": "stream",
     "text": [
      "[0, 4, 5, 13, 8, 14]\n"
     ]
    }
   ],
   "source": [
    "def dijkstra(graph, start):\n",
    "    num_nodes = len(graph)\n",
    "\n",
    "    distances = [float('infinity')] * num_nodes\n",
    "    distances[start] = 0\n",
    "    visited = [False] * num_nodes\n",
    "\n",
    "    for _ in range(num_nodes):\n",
    "        current_node = min((node for node in range(num_nodes) if not visited[node]), key=lambda node: distances[node])\n",
    "        visited[current_node] = True\n",
    "        for neighbor in range(num_nodes):\n",
    "            if graph[current_node][neighbor] > 0:  #0 mean no edge\n",
    "                distance = distances[current_node] + graph[current_node][neighbor]\n",
    "                if distance < distances[neighbor]:\n",
    "                    distances[neighbor] = distance\n",
    "    return distances\n",
    "\n",
    "#A bidirectional graph\n",
    "graph = [[0,4,5,0,0,0],\n",
    "        [4,0,11,9,7,0],\n",
    "        [5,11,0,0,3,0],\n",
    "        [0,9,0,0,13,2],\n",
    "        [0,7,3,13,0,6],\n",
    "        [0,0,0,2,6,0]]\n",
    "\n",
    "\n",
    "print(dijkstra(graph,start=0))\n"
   ]
  },
  {
   "cell_type": "markdown",
   "id": "f5aeea50",
   "metadata": {},
   "source": [
    "# Dynamic programming"
   ]
  },
  {
   "cell_type": "code",
   "execution_count": 2,
   "id": "d53df36d",
   "metadata": {},
   "outputs": [
    {
     "name": "stdout",
     "output_type": "stream",
     "text": [
      "Graph 1\n",
      "Graph contains negative cycle\n",
      "None\n",
      "Graph 2\n",
      "[0, 4, 5, 13, 8, 14]\n"
     ]
    }
   ],
   "source": [
    "def bellman_ford(graph, start):\n",
    "    num_nodes = len(graph)\n",
    "    distances = [float('infinity')] * num_nodes\n",
    "    distances[start] = 0\n",
    "\n",
    "    for a in range(num_nodes - 1):\n",
    "        for i in range(num_nodes):\n",
    "            for j in range(num_nodes):\n",
    "                if graph[i][j] > 0:  # 0 means no edge\n",
    "                    if distances[i] + graph[i][j] < distances[j]:\n",
    "                        distances[j] = distances[i] + graph[i][j]\n",
    "\n",
    "\n",
    "    for i in range(num_nodes):\n",
    "        for j in range(num_nodes):\n",
    "            if graph[i][j] != 0:  # 0 means no edge\n",
    "                if distances[i] + graph[i][j] < distances[j]:\n",
    "                    print(\"Graph contains negative cycle\")\n",
    "                    return\n",
    "\n",
    "    return distances\n",
    "\n",
    "\n",
    "graph1 = [[0,4,-5,0,0,0],#graph with negative edges\n",
    "         [4,0,11,9,-7,0],\n",
    "         [-5,11,0,0,3,0],\n",
    "         [0,9,0,0,13,-2],\n",
    "         [0,-7,3,13,0,6],\n",
    "         [0,0,0,-2,6,0]]\n",
    "\n",
    "graph2 = [[0,4,5,0,0,0],#graph with positive edges\n",
    "        [4,0,11,9,7,0],\n",
    "        [5,11,0,0,3,0],\n",
    "        [0,9,0,0,13,2],\n",
    "        [0,7,3,13,0,6],\n",
    "        [0,0,0,2,6,0]]\n",
    "\n",
    "print('Graph 1')\n",
    "print(bellman_ford(graph1, start=0))\n",
    "print('Graph 2')\n",
    "print(bellman_ford(graph2,start=0))"
   ]
  },
  {
   "cell_type": "markdown",
   "id": "5dae6aa7",
   "metadata": {},
   "source": [
    "# Floyd's Algorithm"
   ]
  },
  {
   "cell_type": "code",
   "execution_count": 3,
   "id": "d59c6fa2",
   "metadata": {},
   "outputs": [
    {
     "name": "stdout",
     "output_type": "stream",
     "text": [
      "Shortest distances between all pairs:\n",
      "[0, 4, 5, 13, 8, 14]\n",
      "[4, 0, 9, 9, 7, 11]\n",
      "[5, 9, 0, 11, 3, 9]\n",
      "[13, 9, 11, 0, 8, 2]\n",
      "[8, 7, 3, 8, 0, 6]\n",
      "[14, 11, 9, 2, 6, 0]\n"
     ]
    }
   ],
   "source": [
    "def floyd_warshall(graph):\n",
    "    num_nodes = len(graph)\n",
    "    distances = [row[:] for row in graph]\n",
    "\n",
    "    # 0 to infinity\n",
    "    for i in range(num_nodes):\n",
    "        for j in range(num_nodes):\n",
    "            if distances[i][j] == 0 and i != j:\n",
    "                distances[i][j] = float('inf')\n",
    "\n",
    "    for k in range(num_nodes):\n",
    "        for i in range(num_nodes):\n",
    "            for j in range(num_nodes):\n",
    "                distances[i][j] = min(distances[i][j], distances[i][k] + distances[k][j])\n",
    "\n",
    "    # infinity to 0\n",
    "    for i in range(num_nodes):\n",
    "        for j in range(num_nodes):\n",
    "            if distances[i][j] == float('inf'):\n",
    "                distances[i][j] = 0\n",
    "\n",
    "    return distances\n",
    "\n",
    "\n",
    "# Positive edge map\n",
    "graph = [[0,4,5,0,0,0],\n",
    "        [4,0,11,9,7,0],\n",
    "        [5,11,0,0,3,0],\n",
    "        [0,9,0,0,13,2],\n",
    "        [0,7,3,13,0,6],\n",
    "        [0,0,0,2,6,0]]\n",
    "\n",
    "shortest_distances = floyd_warshall(graph)\n",
    "\n",
    "print(\"Shortest distances between all pairs:\")\n",
    "for row in shortest_distances:\n",
    "    print(row)\n"
   ]
  },
  {
   "cell_type": "markdown",
   "id": "92e9fbe0",
   "metadata": {},
   "source": [
    "# Breadth First Search"
   ]
  },
  {
   "cell_type": "code",
   "execution_count": 4,
   "id": "977800a0",
   "metadata": {},
   "outputs": [
    {
     "name": "stdout",
     "output_type": "stream",
     "text": [
      "Visiting node: 0\n",
      "Visiting node: 1\n",
      "Visiting node: 4\n",
      "Visiting node: 5\n",
      "Visiting node: 6\n",
      "Visiting node: 7\n",
      "Visiting node: 3\n",
      "Visiting node: 2\n"
     ]
    }
   ],
   "source": [
    "def bfs(graph, start):\n",
    "    queue = []\n",
    "    visited = set()\n",
    "    queue.append(start)\n",
    "    visited.add(start)\n",
    "\n",
    "    while queue:\n",
    "        current = queue.pop(0)\n",
    "        print(f\"Visiting node: {current}\")\n",
    "\n",
    "        for neighbor in graph[current]:\n",
    "            if neighbor not in visited:\n",
    "                queue.append(neighbor)\n",
    "                visited.add(neighbor)\n",
    "\n",
    "example_graph = {\n",
    "    0: [1, 4],\n",
    "    1: [5, 6, 7],\n",
    "    2: [1, 0, 3],\n",
    "    3: [2],\n",
    "    4: [5, 1],\n",
    "    5: [3,2],\n",
    "    6: [4],\n",
    "    7: [1,2,6]\n",
    "}\n",
    "\n",
    "bfs(example_graph, 0)\n"
   ]
  },
  {
   "cell_type": "markdown",
   "id": "40a46b5a",
   "metadata": {},
   "source": [
    "# Depth First search"
   ]
  },
  {
   "cell_type": "code",
   "execution_count": 5,
   "id": "675dfd11",
   "metadata": {},
   "outputs": [
    {
     "name": "stdout",
     "output_type": "stream",
     "text": [
      "Visiting node: 0\n",
      "Visiting node: 1\n",
      "Visiting node: 5\n",
      "Visiting node: 3\n",
      "Visiting node: 2\n",
      "Visiting node: 6\n",
      "Visiting node: 4\n",
      "Visiting node: 7\n"
     ]
    }
   ],
   "source": [
    "def dfs(graph, current):\n",
    "    visited = set()\n",
    "\n",
    "    def explore(node):\n",
    "        visited.add(node)\n",
    "        print(f\"Visiting node: {node}\")\n",
    "\n",
    "        for neighbor in graph[node]:\n",
    "            if neighbor not in visited:\n",
    "                explore(neighbor)\n",
    "\n",
    "    explore(current)\n",
    "\n",
    "example_graph = {\n",
    "    0: [1, 4],\n",
    "    1: [5, 6, 7],\n",
    "    2: [1, 0, 3],\n",
    "    3: [2],\n",
    "    4: [5, 1],\n",
    "    5: [3,2],\n",
    "    6: [4],\n",
    "    7: [1,2,6]\n",
    "}\n",
    "\n",
    "dfs(example_graph, 0)\n"
   ]
  },
  {
   "cell_type": "markdown",
   "id": "d87fd9f2",
   "metadata": {},
   "source": [
    "# Prim's algorithm"
   ]
  },
  {
   "cell_type": "code",
   "execution_count": 6,
   "id": "5d35fa20",
   "metadata": {
    "scrolled": false
   },
   "outputs": [
    {
     "name": "stdout",
     "output_type": "stream",
     "text": [
      "Minimum Spanning Tree:\n",
      "P A 1\n",
      "P X 2\n",
      "X Y 1\n",
      "X N 3\n",
      "A I 4\n",
      "A B 5\n",
      "Y S 6\n"
     ]
    }
   ],
   "source": [
    "def prim(graph):\n",
    "    priority_queue = []\n",
    "    visited = set()\n",
    "    start_vertex = list(graph.keys())[0]\n",
    "    for neighbor, weight in graph[start_vertex]:\n",
    "        priority_queue.append((weight, start_vertex, neighbor))\n",
    "    visited.add(start_vertex)\n",
    "    priority_queue.sort()\n",
    "    minimum_spanning_tree = []\n",
    "    while priority_queue:\n",
    "        weight, start, end = priority_queue.pop(0)\n",
    "        if end not in visited:\n",
    "            minimum_spanning_tree.append((start, end, weight))\n",
    "            visited.add(end)\n",
    "            for neighbor, weight in graph[end]:\n",
    "                if neighbor not in visited:\n",
    "                    priority_queue.append((weight, end, neighbor))\n",
    "\n",
    "            priority_queue.sort()\n",
    "\n",
    "    return minimum_spanning_tree\n",
    "\n",
    "\n",
    "graph = {\n",
    "    'P': [('X', 2), ('A', 1)],\n",
    "    'X': [('P', 2), ('N', 3), ('Y', 1)],\n",
    "    'A': [('P', 1), ('I', 4), ('B', 5)], \n",
    "    'N': [('X', 3)],\n",
    "    'Y': [('X', 1), ('S', 6)],\n",
    "    'I': [('A', 4)],\n",
    "    'B': [('A', 5)], \n",
    "    'S': [('Y', 6)]\n",
    "}\n",
    "\n",
    "result = prim(graph)\n",
    "print(\"Minimum Spanning Tree:\")\n",
    "for edge in result:\n",
    "    print(edge[0],edge[1],edge[2])\n"
   ]
  },
  {
   "cell_type": "markdown",
   "id": "d76b83ce",
   "metadata": {},
   "source": [
    "# Kruskal's Algorithm"
   ]
  },
  {
   "cell_type": "code",
   "execution_count": 7,
   "id": "b28cf97f",
   "metadata": {},
   "outputs": [
    {
     "name": "stdout",
     "output_type": "stream",
     "text": [
      "Minimum Spanning Tree:\n",
      "A P 1\n",
      "X Y 1\n",
      "P X 2\n",
      "N X 3\n",
      "A I 4\n",
      "A B 5\n",
      "S Y 6\n"
     ]
    }
   ],
   "source": [
    "def kruskal(graph):\n",
    "    \n",
    "    def find(parent, node):\n",
    "        if parent[node] == node:\n",
    "            return node\n",
    "        return find(parent, parent[node])\n",
    "    def union(parent, rank, x, y):\n",
    "        root_x = find(parent, x)\n",
    "        root_y = find(parent, y)\n",
    "\n",
    "        if rank[root_x] < rank[root_y]:\n",
    "            parent[root_x] = root_y\n",
    "        elif rank[root_x] > rank[root_y]:\n",
    "            parent[root_y] = root_x\n",
    "        else:\n",
    "            parent[root_x] = root_y\n",
    "            rank[root_y] += 1\n",
    "    edges = []\n",
    "    for node, neighbors in graph.items():\n",
    "        for neighbor, weight in neighbors:\n",
    "            edges.append((weight, node, neighbor))\n",
    "    edges.sort()\n",
    "    parent = {node: node for node in graph}\n",
    "    rank = {node: 0 for node in graph}\n",
    "    minimum_spanning_tree = []\n",
    "    for edge in edges:\n",
    "        weight, start, end = edge\n",
    "        if find(parent, start) != find(parent, end):\n",
    "            minimum_spanning_tree.append((start, end, weight))\n",
    "            union(parent, rank, start, end)\n",
    "    return minimum_spanning_tree\n",
    "\n",
    "graph = {\n",
    "    'P': [('X', 2), ('A', 1)],\n",
    "    'X': [('P', 2), ('N', 3), ('Y', 1)],\n",
    "    'A': [('P', 1), ('I', 4), ('B', 5)],\n",
    "    'N': [('X', 3)],\n",
    "    'Y': [('X', 1), ('S', 6)],\n",
    "    'I': [('A', 4)],\n",
    "    'B': [('A', 5)],\n",
    "    'S': [('Y', 6)]\n",
    "}\n",
    "result = kruskal(graph)\n",
    "print(\"Minimum Spanning Tree:\")\n",
    "for edge in result:\n",
    "    print(edge[0],edge[1],edge[2])\n"
   ]
  },
  {
   "cell_type": "code",
   "execution_count": null,
   "id": "cef6ac8b",
   "metadata": {},
   "outputs": [],
   "source": []
  }
 ],
 "metadata": {
  "kernelspec": {
   "display_name": "Python 3 (ipykernel)",
   "language": "python",
   "name": "python3"
  },
  "language_info": {
   "codemirror_mode": {
    "name": "ipython",
    "version": 3
   },
   "file_extension": ".py",
   "mimetype": "text/x-python",
   "name": "python",
   "nbconvert_exporter": "python",
   "pygments_lexer": "ipython3",
   "version": "3.11.5"
  }
 },
 "nbformat": 4,
 "nbformat_minor": 5
}
